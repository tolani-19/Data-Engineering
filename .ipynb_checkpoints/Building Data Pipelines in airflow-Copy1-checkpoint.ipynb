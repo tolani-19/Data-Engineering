{
 "cells": [
  {
   "cell_type": "markdown",
   "id": "eb504a47-c2e5-488e-ad85-1e201208c85d",
   "metadata": {},
   "source": [
    "Every DAG is going to have some standard, boilerplate code to make it run in Airflow"
   ]
  },
  {
   "cell_type": "markdown",
   "id": "ec5eb5b9-b192-49af-9752-5deab7faaa97",
   "metadata": {},
   "source": [
    "You will always import the needed libraries, and then any other libraries you need for your\n",
    "tasks. In the following code block, you import the operator, DAG, and the time libraries\n",
    "for Airflow. For your tasks, you import the pandas, psycopg2, and elasticsearch\n",
    "libraries:"
   ]
  },
  {
   "cell_type": "code",
   "execution_count": 1,
   "id": "e425c827-095c-423e-96c2-8bbe1763f27d",
   "metadata": {},
   "outputs": [
    {
     "name": "stdout",
     "output_type": "stream",
     "text": [
      "[\u001b[34m2022-08-15 08:29:57,695\u001b[0m] {\u001b[34mutils.py:\u001b[0m159} INFO\u001b[0m - NumExpr defaulting to 4 threads.\u001b[0m\n"
     ]
    }
   ],
   "source": [
    "import datetime as dt\n",
    "from datetime import timedelta\n",
    "from airflow import DAG\n",
    "from airflow.operators.bash import BashOperator\n",
    "from airflow.operators.python import PythonOperator\n",
    "import pandas as pd\n",
    "import psycopg2 as db\n",
    "from elasticsearch import Elasticsearch"
   ]
  },
  {
   "cell_type": "markdown",
   "id": "848148f3-671a-4c47-a85b-bb11328f1237",
   "metadata": {},
   "source": [
    "Next, you will specify the arguments for your DAG. Remember that the start time should\n",
    "be a day behind if you schedule the task to run daily"
   ]
  },
  {
   "cell_type": "code",
   "execution_count": 2,
   "id": "1f8f2c24-5ecf-43b2-8a2d-2101bbdedd77",
   "metadata": {},
   "outputs": [],
   "source": [
    "default_args = {\n",
    " 'owner': 'paulcrickard',\n",
    " 'start_date': dt.datetime(2022, 9, 14),\n",
    " 'retries': 1,\n",
    " 'retry_delay': dt.timedelta(minutes=5),\n",
    "}"
   ]
  },
  {
   "cell_type": "markdown",
   "id": "8ac09c0f-ea3b-4473-96f7-df387ac19436",
   "metadata": {},
   "source": [
    "Now, you can pass the arguments to the DAG, name it, and set the run interval. You will\n",
    "define your operators here as well. In this example, you will create two Python operators –\n",
    "one to get data from PostgreSQL and one to insert data in to Elasticsearch. The getData\n",
    "task will be upstream and the insertData task downstream, so you will use the >> bit\n",
    "shift operator to specify this"
   ]
  },
  {
   "cell_type": "code",
   "execution_count": 7,
   "id": "083b99d2-768e-4ea9-9fe5-3fb887150c63",
   "metadata": {},
   "outputs": [],
   "source": [
    "def queryPostgresql():\n",
    "    conn_string=\"dbname='dataengineering' user='postgres' password='KARima@2019?'\"\n",
    "    conn=db.connect(conn_string)\n",
    "    df=pd.read_sql(\"select name,city from task1\",conn)\n",
    "    df.to_csv('postgresqldata.csv')\n",
    "    print(\"-------Data Saved------\")"
   ]
  },
  {
   "cell_type": "code",
   "execution_count": null,
   "id": "2d13056b-e09f-4eef-8bd6-14ac05b60b30",
   "metadata": {},
   "outputs": [],
   "source": [
    "def insertElasticsearch():\n",
    "    es = Elasticsearch()\n",
    "    df=pd.read_csv('postgresqldata.csv')\n",
    "    for i,r in df.iterrows():\n",
    "        doc=r.to_json()\n",
    "        res=es.index(index=\"frompostgresql\",\n",
    "                     doc_type=\"doc\",body=doc)\n",
    " print(res)"
   ]
  },
  {
   "cell_type": "code",
   "execution_count": 6,
   "id": "e32bb752-158f-4e38-9878-ae5f21c12b1a",
   "metadata": {},
   "outputs": [
    {
     "ename": "NameError",
     "evalue": "name 'insertElasticsearch' is not defined",
     "output_type": "error",
     "traceback": [
      "\u001b[0;31m---------------------------------------------------------------------------\u001b[0m",
      "\u001b[0;31mNameError\u001b[0m                                 Traceback (most recent call last)",
      "Input \u001b[0;32mIn [6]\u001b[0m, in \u001b[0;36m<cell line: 1>\u001b[0;34m()\u001b[0m\n\u001b[1;32m      1\u001b[0m \u001b[38;5;28;01mwith\u001b[39;00m DAG(\u001b[38;5;124m'\u001b[39m\u001b[38;5;124mMyDBdag\u001b[39m\u001b[38;5;124m'\u001b[39m,\n\u001b[1;32m      2\u001b[0m  default_args\u001b[38;5;241m=\u001b[39mdefault_args,\n\u001b[1;32m      3\u001b[0m  schedule_interval\u001b[38;5;241m=\u001b[39mtimedelta(minutes\u001b[38;5;241m=\u001b[39m\u001b[38;5;241m5\u001b[39m),\n\u001b[1;32m      4\u001b[0m  \u001b[38;5;66;03m# '0 * * * *',\u001b[39;00m\n\u001b[1;32m      5\u001b[0m  ) \u001b[38;5;28;01mas\u001b[39;00m dag:\n\u001b[1;32m      6\u001b[0m     getData \u001b[38;5;241m=\u001b[39m PythonOperator(task_id\u001b[38;5;241m=\u001b[39m\u001b[38;5;124m'\u001b[39m\u001b[38;5;124mQueryPostgreSQL\u001b[39m\u001b[38;5;124m'\u001b[39m,python_callable\u001b[38;5;241m=\u001b[39mqueryPostgresql)\n\u001b[0;32m----> 7\u001b[0m     insertData \u001b[38;5;241m=\u001b[39m PythonOperator(task_id\u001b[38;5;241m=\u001b[39m\u001b[38;5;124m'\u001b[39m\u001b[38;5;124mInsertDataElasticsearch\u001b[39m\u001b[38;5;124m'\u001b[39m,python_callable\u001b[38;5;241m=\u001b[39m\u001b[43minsertElasticsearch\u001b[49m)\n\u001b[1;32m      8\u001b[0m getData \u001b[38;5;241m>>\u001b[39m insertData\n",
      "\u001b[0;31mNameError\u001b[0m: name 'insertElasticsearch' is not defined"
     ]
    }
   ],
   "source": [
    "with DAG('MyDBdag',\n",
    " default_args=default_args,\n",
    " schedule_interval=timedelta(minutes=5),\n",
    " # '0 * * * *',\n",
    " ) as dag:\n",
    "    getData = PythonOperator(task_id='QueryPostgreSQL',python_callable=queryPostgresql)\n",
    "    insertData = PythonOperator(task_id='InsertDataElasticsearch',python_callable=insertElasticsearch)\n",
    "getData >> insertData"
   ]
  },
  {
   "cell_type": "code",
   "execution_count": null,
   "id": "0df069d8-7dee-486f-ab8e-67bdb3354487",
   "metadata": {},
   "outputs": [],
   "source": []
  }
 ],
 "metadata": {
  "kernelspec": {
   "display_name": "Python 3 (ipykernel)",
   "language": "python",
   "name": "python3"
  },
  "language_info": {
   "codemirror_mode": {
    "name": "ipython",
    "version": 3
   },
   "file_extension": ".py",
   "mimetype": "text/x-python",
   "name": "python",
   "nbconvert_exporter": "python",
   "pygments_lexer": "ipython3",
   "version": "3.9.12"
  }
 },
 "nbformat": 4,
 "nbformat_minor": 5
}
