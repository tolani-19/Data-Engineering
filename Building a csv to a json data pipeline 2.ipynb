{
 "cells": [
  {
   "cell_type": "code",
   "execution_count": 1,
   "id": "c863dc3e-bfb6-4fa2-9f9a-4ad058529f3e",
   "metadata": {},
   "outputs": [],
   "source": [
    "import warnings\n",
    "warnings.filterwarnings('ignore')"
   ]
  },
  {
   "cell_type": "code",
   "execution_count": 2,
   "id": "16a09d39-24fe-410d-992f-4d7484fecd7b",
   "metadata": {},
   "outputs": [
    {
     "name": "stdout",
     "output_type": "stream",
     "text": [
      "[\u001b[34m2022-08-15 11:32:51,116\u001b[0m] {\u001b[34mutils.py:\u001b[0m159} INFO\u001b[0m - NumExpr defaulting to 4 threads.\u001b[0m\n"
     ]
    }
   ],
   "source": [
    "import datetime as dt\n",
    "from datetime import timedelta\n",
    "from airflow import DAG\n",
    "from airflow.operators.bash import BashOperator\n",
    "from airflow.operators.python import PythonOperator\n",
    "import pandas as pd"
   ]
  },
  {
   "cell_type": "code",
   "execution_count": 3,
   "id": "69b8b078-84ca-46f5-93ab-f75d5c899ed7",
   "metadata": {},
   "outputs": [],
   "source": [
    "def CSVToJson():\n",
    "    df=pd.read_CSV('data.csv')\n",
    "    for i,r in df.iterrows():\n",
    "        print(r['name'])\n",
    "        df.to_JSON('fromAirflow.JSON',orient='records')"
   ]
  },
  {
   "cell_type": "code",
   "execution_count": 4,
   "id": "6aada53c-1b7d-4f19-b34c-075e53681704",
   "metadata": {},
   "outputs": [],
   "source": [
    "default_args = {\n",
    " 'owner': 'tolani',\n",
    " 'start_date': dt.datetime(2022, 8, 15),\n",
    " 'retries': 1,\n",
    " 'retry_delay': dt.timedelta(minutes=5),\n",
    "}"
   ]
  },
  {
   "cell_type": "code",
   "execution_count": 5,
   "id": "af7793be-f6fc-46d3-83f3-3dbb1c055a37",
   "metadata": {},
   "outputs": [],
   "source": [
    "with DAG('MyCSVDAG',\n",
    " default_args=default_args,\n",
    " schedule_interval=timedelta(minutes=5),\n",
    " # '0 * * * *',\n",
    " ) as dag:\n",
    "    print_starting = BashOperator(task_id='starting',bash_command='echo \"I am reading the CSV now.....\"')\n",
    "    CSVJson = PythonOperator(task_id='convertCSVtoJson',python_callable=CSVToJson)"
   ]
  },
  {
   "cell_type": "code",
   "execution_count": 6,
   "id": "45980a74-8374-4843-bd3d-087d150a24ec",
   "metadata": {},
   "outputs": [],
   "source": [
    "print_starting .set_downstream(CSVJson)"
   ]
  },
  {
   "cell_type": "code",
   "execution_count": 7,
   "id": "852ef7f4-f87e-432f-81d9-9d51da040942",
   "metadata": {},
   "outputs": [],
   "source": [
    "CSVJson.set_upstream(print_starting)"
   ]
  },
  {
   "cell_type": "code",
   "execution_count": 8,
   "id": "5ff0f0c9-e447-4d8e-b4e7-136f0e561cb2",
   "metadata": {},
   "outputs": [
    {
     "data": {
      "text/plain": [
       "<Task(PythonOperator): convertCSVtoJson>"
      ]
     },
     "execution_count": 8,
     "metadata": {},
     "output_type": "execute_result"
    }
   ],
   "source": [
    "print_starting >> CSVJson"
   ]
  },
  {
   "cell_type": "code",
   "execution_count": null,
   "id": "da49e081-37fb-494f-a81e-b31e4e8db751",
   "metadata": {},
   "outputs": [],
   "source": []
  }
 ],
 "metadata": {
  "kernelspec": {
   "display_name": "Python 3 (ipykernel)",
   "language": "python",
   "name": "python3"
  },
  "language_info": {
   "codemirror_mode": {
    "name": "ipython",
    "version": 3
   },
   "file_extension": ".py",
   "mimetype": "text/x-python",
   "name": "python",
   "nbconvert_exporter": "python",
   "pygments_lexer": "ipython3",
   "version": "3.9.12"
  }
 },
 "nbformat": 4,
 "nbformat_minor": 5
}
