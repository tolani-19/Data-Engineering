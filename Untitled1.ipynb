{
 "cells": [
  {
   "cell_type": "code",
   "execution_count": 1,
   "id": "7d8a828c-fa5f-42d5-9d38-34404da217ea",
   "metadata": {},
   "outputs": [],
   "source": [
    "import json\n",
    "import great_expectations as ge"
   ]
  },
  {
   "cell_type": "code",
   "execution_count": 2,
   "id": "88af77ed-cbcd-42fc-9438-1907e8cc4a47",
   "metadata": {},
   "outputs": [],
   "source": [
    "my_df = ge.read_csv(\"//Users//motolanikay-salami//Desktop//Data Engineering//people.csv\")"
   ]
  },
  {
   "cell_type": "code",
   "execution_count": 3,
   "id": "c97b9f91-840b-4265-8c55-d9a83534c788",
   "metadata": {},
   "outputs": [
    {
     "data": {
      "text/html": [
       "<div>\n",
       "<style scoped>\n",
       "    .dataframe tbody tr th:only-of-type {\n",
       "        vertical-align: middle;\n",
       "    }\n",
       "\n",
       "    .dataframe tbody tr th {\n",
       "        vertical-align: top;\n",
       "    }\n",
       "\n",
       "    .dataframe thead th {\n",
       "        text-align: right;\n",
       "    }\n",
       "</style>\n",
       "<table border=\"1\" class=\"dataframe\">\n",
       "  <thead>\n",
       "    <tr style=\"text-align: right;\">\n",
       "      <th></th>\n",
       "      <th>name</th>\n",
       "      <th>age</th>\n",
       "      <th>street</th>\n",
       "      <th>city</th>\n",
       "      <th>state</th>\n",
       "      <th>zip</th>\n",
       "      <th>lng</th>\n",
       "      <th>lat</th>\n",
       "    </tr>\n",
       "  </thead>\n",
       "  <tbody>\n",
       "    <tr>\n",
       "      <th>0</th>\n",
       "      <td>Stacie Campbell</td>\n",
       "      <td>68</td>\n",
       "      <td>61161 Jay Lodge</td>\n",
       "      <td>Michaeltown</td>\n",
       "      <td>North Carolina</td>\n",
       "      <td>54759</td>\n",
       "      <td>24.175850</td>\n",
       "      <td>20.405946</td>\n",
       "    </tr>\n",
       "    <tr>\n",
       "      <th>1</th>\n",
       "      <td>Renee Obrien</td>\n",
       "      <td>37</td>\n",
       "      <td>038 Mcguire Fords Apt. 614</td>\n",
       "      <td>North Craigborough</td>\n",
       "      <td>South Carolina</td>\n",
       "      <td>96083</td>\n",
       "      <td>81.820103</td>\n",
       "      <td>-24.113592</td>\n",
       "    </tr>\n",
       "    <tr>\n",
       "      <th>2</th>\n",
       "      <td>Thomas Palmer</td>\n",
       "      <td>25</td>\n",
       "      <td>43026 Margaret Trace Suite 063</td>\n",
       "      <td>Ibarrashire</td>\n",
       "      <td>Illinois</td>\n",
       "      <td>17512</td>\n",
       "      <td>52.681232</td>\n",
       "      <td>-72.042518</td>\n",
       "    </tr>\n",
       "    <tr>\n",
       "      <th>3</th>\n",
       "      <td>Stephen Ayala</td>\n",
       "      <td>39</td>\n",
       "      <td>397 Short Parkway Suite 553</td>\n",
       "      <td>West Bradleytown</td>\n",
       "      <td>Ohio</td>\n",
       "      <td>55159</td>\n",
       "      <td>-47.858294</td>\n",
       "      <td>58.525459</td>\n",
       "    </tr>\n",
       "    <tr>\n",
       "      <th>4</th>\n",
       "      <td>Stuart Kim</td>\n",
       "      <td>48</td>\n",
       "      <td>69342 Thomas Drive Suite 229</td>\n",
       "      <td>West Jamie</td>\n",
       "      <td>Pennsylvania</td>\n",
       "      <td>40298</td>\n",
       "      <td>75.515752</td>\n",
       "      <td>52.696902</td>\n",
       "    </tr>\n",
       "  </tbody>\n",
       "</table>\n",
       "</div>"
      ],
      "text/plain": [
       "              name  age                          street                city  \\\n",
       "0  Stacie Campbell   68                 61161 Jay Lodge         Michaeltown   \n",
       "1     Renee Obrien   37      038 Mcguire Fords Apt. 614  North Craigborough   \n",
       "2    Thomas Palmer   25  43026 Margaret Trace Suite 063         Ibarrashire   \n",
       "3    Stephen Ayala   39     397 Short Parkway Suite 553    West Bradleytown   \n",
       "4       Stuart Kim   48    69342 Thomas Drive Suite 229          West Jamie   \n",
       "\n",
       "            state    zip        lng        lat  \n",
       "0  North Carolina  54759  24.175850  20.405946  \n",
       "1  South Carolina  96083  81.820103 -24.113592  \n",
       "2        Illinois  17512  52.681232 -72.042518  \n",
       "3            Ohio  55159 -47.858294  58.525459  \n",
       "4    Pennsylvania  40298  75.515752  52.696902  "
      ]
     },
     "execution_count": 3,
     "metadata": {},
     "output_type": "execute_result"
    }
   ],
   "source": [
    "my_df.head()"
   ]
  },
  {
   "cell_type": "code",
   "execution_count": 4,
   "id": "003f8676-5e10-4529-b0c4-d7a4fc3fba0d",
   "metadata": {},
   "outputs": [
    {
     "data": {
      "text/plain": [
       "{\n",
       "  \"result\": {\n",
       "    \"observed_value\": 8\n",
       "  },\n",
       "  \"exception_info\": {\n",
       "    \"raised_exception\": false,\n",
       "    \"exception_traceback\": null,\n",
       "    \"exception_message\": null\n",
       "  },\n",
       "  \"success\": true,\n",
       "  \"meta\": {}\n",
       "}"
      ]
     },
     "execution_count": 4,
     "metadata": {},
     "output_type": "execute_result"
    }
   ],
   "source": [
    "my_df.expect_table_column_count_to_equal(value=8)"
   ]
  },
  {
   "cell_type": "code",
   "execution_count": 5,
   "id": "ce1577bc-5639-4fa1-88f3-7eb6a102d264",
   "metadata": {},
   "outputs": [
    {
     "data": {
      "text/plain": [
       "{\n",
       "  \"result\": {\n",
       "    \"observed_value\": [\n",
       "      \"name\",\n",
       "      \"age\",\n",
       "      \"street\",\n",
       "      \"city\",\n",
       "      \"state\",\n",
       "      \"zip\",\n",
       "      \"lng\",\n",
       "      \"lat\"\n",
       "    ]\n",
       "  },\n",
       "  \"exception_info\": {\n",
       "    \"raised_exception\": false,\n",
       "    \"exception_traceback\": null,\n",
       "    \"exception_message\": null\n",
       "  },\n",
       "  \"success\": true,\n",
       "  \"meta\": {}\n",
       "}"
      ]
     },
     "execution_count": 5,
     "metadata": {},
     "output_type": "execute_result"
    }
   ],
   "source": [
    "my_df.expect_table_columns_to_match_ordered_list(\n",
    "    column_list=[\"name\", \"age\", \"street\", \"city\", \"state\", \"zip\", \"lng\", \"lat\"]\n",
    ")"
   ]
  },
  {
   "cell_type": "code",
   "execution_count": 6,
   "id": "95bec413-f2d7-4ad7-bd21-4062e9f520d1",
   "metadata": {},
   "outputs": [
    {
     "data": {
      "text/plain": [
       "{\n",
       "  \"result\": {\n",
       "    \"element_count\": 1000,\n",
       "    \"unexpected_count\": 0,\n",
       "    \"unexpected_percent\": 0.0,\n",
       "    \"unexpected_percent_total\": 0.0,\n",
       "    \"partial_unexpected_list\": []\n",
       "  },\n",
       "  \"exception_info\": {\n",
       "    \"raised_exception\": false,\n",
       "    \"exception_traceback\": null,\n",
       "    \"exception_message\": null\n",
       "  },\n",
       "  \"success\": true,\n",
       "  \"meta\": {}\n",
       "}"
      ]
     },
     "execution_count": 6,
     "metadata": {},
     "output_type": "execute_result"
    }
   ],
   "source": [
    "my_df.expect_column_values_to_not_be_null(\"age\")"
   ]
  },
  {
   "cell_type": "code",
   "execution_count": 7,
   "id": "8afd9ac2-62f2-4758-9188-ad176e4c03a2",
   "metadata": {},
   "outputs": [
    {
     "data": {
      "text/plain": [
       "{\n",
       "  \"result\": {\n",
       "    \"observed_value\": 18,\n",
       "    \"element_count\": 1000,\n",
       "    \"missing_count\": null,\n",
       "    \"missing_percent\": null\n",
       "  },\n",
       "  \"exception_info\": {\n",
       "    \"raised_exception\": false,\n",
       "    \"exception_traceback\": null,\n",
       "    \"exception_message\": null\n",
       "  },\n",
       "  \"success\": true,\n",
       "  \"meta\": {}\n",
       "}"
      ]
     },
     "execution_count": 7,
     "metadata": {},
     "output_type": "execute_result"
    }
   ],
   "source": [
    "my_df.expect_column_min_to_be_between(\"age\", max_value=19, min_value=17)"
   ]
  },
  {
   "cell_type": "code",
   "execution_count": 8,
   "id": "72155265-ea8a-4266-a491-5c0066190eb0",
   "metadata": {},
   "outputs": [
    {
     "data": {
      "text/plain": [
       "{\n",
       "  \"result\": {\n",
       "    \"observed_value\": 80,\n",
       "    \"element_count\": 1000,\n",
       "    \"missing_count\": null,\n",
       "    \"missing_percent\": null\n",
       "  },\n",
       "  \"exception_info\": {\n",
       "    \"raised_exception\": false,\n",
       "    \"exception_traceback\": null,\n",
       "    \"exception_message\": null\n",
       "  },\n",
       "  \"success\": true,\n",
       "  \"meta\": {}\n",
       "}"
      ]
     },
     "execution_count": 8,
     "metadata": {},
     "output_type": "execute_result"
    }
   ],
   "source": [
    "my_df.expect_column_max_to_be_between(\"age\", max_value=81, min_value=79)"
   ]
  },
  {
   "cell_type": "code",
   "execution_count": 9,
   "id": "1988043b-9a76-42d7-bbcd-aa8efa4708c5",
   "metadata": {},
   "outputs": [
    {
     "data": {
      "text/plain": [
       "{\n",
       "  \"result\": {\n",
       "    \"observed_value\": 48.685,\n",
       "    \"element_count\": 1000,\n",
       "    \"missing_count\": null,\n",
       "    \"missing_percent\": null\n",
       "  },\n",
       "  \"exception_info\": {\n",
       "    \"raised_exception\": false,\n",
       "    \"exception_traceback\": null,\n",
       "    \"exception_message\": null\n",
       "  },\n",
       "  \"success\": false,\n",
       "  \"meta\": {}\n",
       "}"
      ]
     },
     "execution_count": 9,
     "metadata": {},
     "output_type": "execute_result"
    }
   ],
   "source": [
    "my_df.expect_column_mean_to_be_between(\"age\", max_value=51.151, min_value=49.151)"
   ]
  },
  {
   "cell_type": "code",
   "execution_count": 10,
   "id": "b6193aa7-f153-4aae-baae-cc358b704cf8",
   "metadata": {},
   "outputs": [
    {
     "data": {
      "text/plain": [
       "{\n",
       "  \"result\": {\n",
       "    \"observed_value\": 48.0,\n",
       "    \"element_count\": 1000,\n",
       "    \"missing_count\": null,\n",
       "    \"missing_percent\": null\n",
       "  },\n",
       "  \"exception_info\": {\n",
       "    \"raised_exception\": false,\n",
       "    \"exception_traceback\": null,\n",
       "    \"exception_message\": null\n",
       "  },\n",
       "  \"success\": false,\n",
       "  \"meta\": {}\n",
       "}"
      ]
     },
     "execution_count": 10,
     "metadata": {},
     "output_type": "execute_result"
    }
   ],
   "source": [
    "my_df.expect_column_median_to_be_between(\"age\", max_value=52.0, min_value=50.0)"
   ]
  },
  {
   "cell_type": "code",
   "execution_count": 11,
   "id": "d2ccc794-29ad-4d19-ad42-d57d77e38ba7",
   "metadata": {},
   "outputs": [
    {
     "data": {
      "text/plain": [
       "{\n",
       "  \"expectations\": [\n",
       "    {\n",
       "      \"expectation_type\": \"expect_table_column_count_to_equal\",\n",
       "      \"kwargs\": {\n",
       "        \"value\": 8\n",
       "      },\n",
       "      \"meta\": {}\n",
       "    },\n",
       "    {\n",
       "      \"expectation_type\": \"expect_table_columns_to_match_ordered_list\",\n",
       "      \"kwargs\": {\n",
       "        \"column_list\": [\n",
       "          \"name\",\n",
       "          \"age\",\n",
       "          \"street\",\n",
       "          \"city\",\n",
       "          \"state\",\n",
       "          \"zip\",\n",
       "          \"lng\",\n",
       "          \"lat\"\n",
       "        ]\n",
       "      },\n",
       "      \"meta\": {}\n",
       "    },\n",
       "    {\n",
       "      \"expectation_type\": \"expect_column_values_to_not_be_null\",\n",
       "      \"kwargs\": {\n",
       "        \"column\": \"age\"\n",
       "      },\n",
       "      \"meta\": {}\n",
       "    },\n",
       "    {\n",
       "      \"expectation_type\": \"expect_column_min_to_be_between\",\n",
       "      \"kwargs\": {\n",
       "        \"column\": \"age\",\n",
       "        \"max_value\": 19,\n",
       "        \"min_value\": 17\n",
       "      },\n",
       "      \"meta\": {}\n",
       "    },\n",
       "    {\n",
       "      \"expectation_type\": \"expect_column_max_to_be_between\",\n",
       "      \"kwargs\": {\n",
       "        \"column\": \"age\",\n",
       "        \"max_value\": 81,\n",
       "        \"min_value\": 79\n",
       "      },\n",
       "      \"meta\": {}\n",
       "    }\n",
       "  ],\n",
       "  \"expectation_suite_name\": \"default\",\n",
       "  \"ge_cloud_id\": null,\n",
       "  \"data_asset_type\": \"Dataset\",\n",
       "  \"meta\": {\n",
       "    \"great_expectations_version\": \"0.15.27\"\n",
       "  }\n",
       "}"
      ]
     },
     "execution_count": 11,
     "metadata": {},
     "output_type": "execute_result"
    }
   ],
   "source": [
    "my_df.get_expectation_suite()"
   ]
  },
  {
   "cell_type": "code",
   "execution_count": 12,
   "id": "675442f9-f452-494f-b61a-e9396d6847a8",
   "metadata": {},
   "outputs": [],
   "source": [
    "import json\n",
    "\n",
    "with open( \"my_expectation_file.json\", \"w\") as my_file:\n",
    "    my_file.write(\n",
    "        json.dumps(my_df.get_expectation_suite().to_json_dict())\n",
    "    )"
   ]
  },
  {
   "cell_type": "code",
   "execution_count": null,
   "id": "db8514f8-ea2d-4dab-8ae6-0e53491fd605",
   "metadata": {},
   "outputs": [],
   "source": []
  }
 ],
 "metadata": {
  "kernelspec": {
   "display_name": "Python 3 (ipykernel)",
   "language": "python",
   "name": "python3"
  },
  "language_info": {
   "codemirror_mode": {
    "name": "ipython",
    "version": 3
   },
   "file_extension": ".py",
   "mimetype": "text/x-python",
   "name": "python",
   "nbconvert_exporter": "python",
   "pygments_lexer": "ipython3",
   "version": "3.9.12"
  }
 },
 "nbformat": 4,
 "nbformat_minor": 5
}
