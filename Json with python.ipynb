{
 "cells": [
  {
   "cell_type": "markdown",
   "id": "69003d91-4abe-480f-8e76-a79ed5a749e3",
   "metadata": {},
   "source": [
    "## Writing JSON with Python"
   ]
  },
  {
   "cell_type": "code",
   "execution_count": 1,
   "id": "6e469f68-5d01-4a71-bc7b-9dd044cdba3f",
   "metadata": {},
   "outputs": [],
   "source": [
    "#Import the library and open the file you will write to. You also create the Faker object:\n",
    "from faker import Faker\n",
    "import json\n",
    "fake=Faker()"
   ]
  },
  {
   "cell_type": "code",
   "execution_count": 2,
   "id": "61f01c9f-02b0-499e-9ad0-764594087c62",
   "metadata": {},
   "outputs": [],
   "source": [
    "# We will create 1,000 records, so you will need to create a dictionary to hold the data\n",
    "alldata={}\n",
    "alldata['records']=[]"
   ]
  },
  {
   "cell_type": "code",
   "execution_count": 3,
   "id": "5823c8dc-3ed6-4dcb-b977-0162f767b806",
   "metadata": {},
   "outputs": [],
   "source": [
    "# To write the records, you use Faker to create a dictionary, then append it to the array:\n",
    "for x in range(1000):\n",
    "    data={\"name\":fake.name(),\n",
    "          \"age\":fake.random_int(min=18, max=80, step=1),\n",
    "          \"street\":fake.street_address(),\n",
    "          \"city\":fake.city(),\n",
    "          \"state\":fake.state(),\n",
    "          \"zip\":fake.zipcode(),\n",
    "          \"lng\":float(fake.longitude()),\n",
    "          \"lat\":float(fake.latitude())}\n",
    "    alldata['records'].append(data)"
   ]
  },
  {
   "cell_type": "code",
   "execution_count": 4,
   "id": "8b4e48e7-8d43-4f1b-947a-639432546350",
   "metadata": {},
   "outputs": [],
   "source": [
    "with open('data.json', 'w') as fp:\n",
    "    json.dump(alldata, fp)"
   ]
  },
  {
   "cell_type": "code",
   "execution_count": 5,
   "id": "f6681c36-bb52-4b48-b8f5-e62fa5659c0d",
   "metadata": {},
   "outputs": [
    {
     "name": "stdout",
     "output_type": "stream",
     "text": [
      "{'name': 'John Robinson', 'age': 36, 'street': '30173 Stevenson Square', 'city': 'North Michael', 'state': 'Missouri', 'zip': '02453', 'lng': 143.456425, 'lat': -24.6794825}\n"
     ]
    }
   ],
   "source": [
    "with open(\"data.json\",\"r\") as f:\n",
    "    data=json.load(f)\n",
    "    print(data['records'][0])"
   ]
  },
  {
   "cell_type": "markdown",
   "id": "789e1c20-bed8-4cbf-9528-d08edea15220",
   "metadata": {},
   "source": [
    "# Creating Pandas dataframe with JSON"
   ]
  },
  {
   "cell_type": "code",
   "execution_count": null,
   "id": "cd3ca5fa-7b92-48ef-9c7e-d05dce645ec2",
   "metadata": {},
   "outputs": [],
   "source": [
    "#If you have a clean, well-formatted JSON file, you can read it using the following code:\n",
    "df=pd.read_json('data.JSON')"
   ]
  },
  {
   "cell_type": "code",
   "execution_count": 6,
   "id": "85965704-e9a7-4f6c-ab4b-e2fd9111b545",
   "metadata": {},
   "outputs": [],
   "source": [
    "#import the pandas JSON library\n",
    "import pandas.io.json as pd_JSON"
   ]
  },
  {
   "cell_type": "code",
   "execution_count": 7,
   "id": "3541a91e-5d35-47bb-af80-df7024923c9e",
   "metadata": {},
   "outputs": [],
   "source": [
    "#Open the file and load it with the pandas version of JSON.loads():\n",
    "f=open('data.json','r')"
   ]
  },
  {
   "cell_type": "code",
   "execution_count": 8,
   "id": "a505aeac-d689-43aa-9b37-9c849153ba7b",
   "metadata": {},
   "outputs": [],
   "source": [
    "data=pd_JSON.loads(f.read())"
   ]
  },
  {
   "cell_type": "code",
   "execution_count": 9,
   "id": "029c3633-bfa6-400d-ba0f-fd12b8f8f423",
   "metadata": {},
   "outputs": [
    {
     "name": "stderr",
     "output_type": "stream",
     "text": [
      "/var/folders/j1/xfq7q3l95_x40z_ld8jl19dm0000gn/T/ipykernel_1960/2213182809.py:2: FutureWarning: pandas.io.json.json_normalize is deprecated, use pandas.json_normalize instead.\n",
      "  df=pd_JSON.json_normalize(data,record_path='records')\n"
     ]
    },
    {
     "data": {
      "text/html": [
       "<div>\n",
       "<style scoped>\n",
       "    .dataframe tbody tr th:only-of-type {\n",
       "        vertical-align: middle;\n",
       "    }\n",
       "\n",
       "    .dataframe tbody tr th {\n",
       "        vertical-align: top;\n",
       "    }\n",
       "\n",
       "    .dataframe thead th {\n",
       "        text-align: right;\n",
       "    }\n",
       "</style>\n",
       "<table border=\"1\" class=\"dataframe\">\n",
       "  <thead>\n",
       "    <tr style=\"text-align: right;\">\n",
       "      <th></th>\n",
       "      <th>name</th>\n",
       "      <th>age</th>\n",
       "      <th>street</th>\n",
       "      <th>city</th>\n",
       "      <th>state</th>\n",
       "      <th>zip</th>\n",
       "      <th>lng</th>\n",
       "      <th>lat</th>\n",
       "    </tr>\n",
       "  </thead>\n",
       "  <tbody>\n",
       "    <tr>\n",
       "      <th>0</th>\n",
       "      <td>John Robinson</td>\n",
       "      <td>36</td>\n",
       "      <td>30173 Stevenson Square</td>\n",
       "      <td>North Michael</td>\n",
       "      <td>Missouri</td>\n",
       "      <td>02453</td>\n",
       "      <td>143.456425</td>\n",
       "      <td>-24.679482</td>\n",
       "    </tr>\n",
       "    <tr>\n",
       "      <th>1</th>\n",
       "      <td>Cathy Freeman</td>\n",
       "      <td>77</td>\n",
       "      <td>95981 Hudson Ridges</td>\n",
       "      <td>Port Amyfurt</td>\n",
       "      <td>Massachusetts</td>\n",
       "      <td>05944</td>\n",
       "      <td>-37.902682</td>\n",
       "      <td>13.407435</td>\n",
       "    </tr>\n",
       "    <tr>\n",
       "      <th>2</th>\n",
       "      <td>Kyle Johnson</td>\n",
       "      <td>63</td>\n",
       "      <td>96710 Morgan Lakes</td>\n",
       "      <td>Austinview</td>\n",
       "      <td>West Virginia</td>\n",
       "      <td>36070</td>\n",
       "      <td>130.056254</td>\n",
       "      <td>-52.288516</td>\n",
       "    </tr>\n",
       "    <tr>\n",
       "      <th>3</th>\n",
       "      <td>Melissa Jones</td>\n",
       "      <td>34</td>\n",
       "      <td>4521 David Coves</td>\n",
       "      <td>Melissaside</td>\n",
       "      <td>Maine</td>\n",
       "      <td>18673</td>\n",
       "      <td>76.584807</td>\n",
       "      <td>15.315103</td>\n",
       "    </tr>\n",
       "    <tr>\n",
       "      <th>4</th>\n",
       "      <td>Hannah Kramer</td>\n",
       "      <td>20</td>\n",
       "      <td>8162 Matthew Brook Suite 416</td>\n",
       "      <td>Lake Christopherport</td>\n",
       "      <td>Maryland</td>\n",
       "      <td>52212</td>\n",
       "      <td>-137.090638</td>\n",
       "      <td>73.702260</td>\n",
       "    </tr>\n",
       "    <tr>\n",
       "      <th>...</th>\n",
       "      <td>...</td>\n",
       "      <td>...</td>\n",
       "      <td>...</td>\n",
       "      <td>...</td>\n",
       "      <td>...</td>\n",
       "      <td>...</td>\n",
       "      <td>...</td>\n",
       "      <td>...</td>\n",
       "    </tr>\n",
       "    <tr>\n",
       "      <th>995</th>\n",
       "      <td>Sonya Schmidt</td>\n",
       "      <td>67</td>\n",
       "      <td>37788 Michael Pike Apt. 816</td>\n",
       "      <td>Port Jessicaport</td>\n",
       "      <td>Colorado</td>\n",
       "      <td>93671</td>\n",
       "      <td>-32.341865</td>\n",
       "      <td>84.537208</td>\n",
       "    </tr>\n",
       "    <tr>\n",
       "      <th>996</th>\n",
       "      <td>Victoria Smith</td>\n",
       "      <td>34</td>\n",
       "      <td>604 Rhonda Highway</td>\n",
       "      <td>North Kevin</td>\n",
       "      <td>Wyoming</td>\n",
       "      <td>71255</td>\n",
       "      <td>-14.753430</td>\n",
       "      <td>74.757515</td>\n",
       "    </tr>\n",
       "    <tr>\n",
       "      <th>997</th>\n",
       "      <td>Erica Munoz</td>\n",
       "      <td>66</td>\n",
       "      <td>943 Mcmillan Unions Apt. 182</td>\n",
       "      <td>Port Tamara</td>\n",
       "      <td>Tennessee</td>\n",
       "      <td>51011</td>\n",
       "      <td>-59.309077</td>\n",
       "      <td>-11.808848</td>\n",
       "    </tr>\n",
       "    <tr>\n",
       "      <th>998</th>\n",
       "      <td>Barbara Miller</td>\n",
       "      <td>36</td>\n",
       "      <td>34149 Nash Flat Apt. 227</td>\n",
       "      <td>Greerborough</td>\n",
       "      <td>Kentucky</td>\n",
       "      <td>37042</td>\n",
       "      <td>-116.343782</td>\n",
       "      <td>-18.621461</td>\n",
       "    </tr>\n",
       "    <tr>\n",
       "      <th>999</th>\n",
       "      <td>David Anderson</td>\n",
       "      <td>58</td>\n",
       "      <td>8182 Brown Fords</td>\n",
       "      <td>Lake Sharon</td>\n",
       "      <td>Montana</td>\n",
       "      <td>83274</td>\n",
       "      <td>-101.368320</td>\n",
       "      <td>69.522854</td>\n",
       "    </tr>\n",
       "  </tbody>\n",
       "</table>\n",
       "<p>1000 rows × 8 columns</p>\n",
       "</div>"
      ],
      "text/plain": [
       "               name  age                        street                  city  \\\n",
       "0     John Robinson   36        30173 Stevenson Square         North Michael   \n",
       "1     Cathy Freeman   77           95981 Hudson Ridges          Port Amyfurt   \n",
       "2      Kyle Johnson   63            96710 Morgan Lakes            Austinview   \n",
       "3     Melissa Jones   34              4521 David Coves           Melissaside   \n",
       "4     Hannah Kramer   20  8162 Matthew Brook Suite 416  Lake Christopherport   \n",
       "..              ...  ...                           ...                   ...   \n",
       "995   Sonya Schmidt   67   37788 Michael Pike Apt. 816      Port Jessicaport   \n",
       "996  Victoria Smith   34            604 Rhonda Highway           North Kevin   \n",
       "997     Erica Munoz   66  943 Mcmillan Unions Apt. 182           Port Tamara   \n",
       "998  Barbara Miller   36      34149 Nash Flat Apt. 227          Greerborough   \n",
       "999  David Anderson   58              8182 Brown Fords           Lake Sharon   \n",
       "\n",
       "             state    zip         lng        lat  \n",
       "0         Missouri  02453  143.456425 -24.679482  \n",
       "1    Massachusetts  05944  -37.902682  13.407435  \n",
       "2    West Virginia  36070  130.056254 -52.288516  \n",
       "3            Maine  18673   76.584807  15.315103  \n",
       "4         Maryland  52212 -137.090638  73.702260  \n",
       "..             ...    ...         ...        ...  \n",
       "995       Colorado  93671  -32.341865  84.537208  \n",
       "996        Wyoming  71255  -14.753430  74.757515  \n",
       "997      Tennessee  51011  -59.309077 -11.808848  \n",
       "998       Kentucky  37042 -116.343782 -18.621461  \n",
       "999        Montana  83274 -101.368320  69.522854  \n",
       "\n",
       "[1000 rows x 8 columns]"
      ]
     },
     "execution_count": 9,
     "metadata": {},
     "output_type": "execute_result"
    }
   ],
   "source": [
    "#Creating dataframes: To create the DataFrame, you need to normalize the JSON\n",
    "df=pd_JSON.json_normalize(data,record_path='records')\n",
    "df"
   ]
  },
  {
   "cell_type": "code",
   "execution_count": 10,
   "id": "de78e888-0ee3-4ec6-af51-f96ccbab8eb4",
   "metadata": {},
   "outputs": [
    {
     "data": {
      "text/plain": [
       "'{\"name\":{\"0\":\"John Robinson\",\"1\":\"Cathy Freeman\"},\"age\":{\"0\":36,\"1\":77},\"street\":{\"0\":\"30173 Stevenson Square\",\"1\":\"95981 Hudson Ridges\"},\"city\":{\"0\":\"North Michael\",\"1\":\"Port Amyfurt\"},\"state\":{\"0\":\"Missouri\",\"1\":\"Massachusetts\"},\"zip\":{\"0\":\"02453\",\"1\":\"05944\"},\"lng\":{\"0\":143.456425,\"1\":-37.902682},\"lat\":{\"0\":-24.6794825,\"1\":13.4074345}}'"
      ]
     },
     "execution_count": 10,
     "metadata": {},
     "output_type": "execute_result"
    }
   ],
   "source": [
    "#When writing to JSON, you can pass the orient parameter, which determines the format of the JSON that is returned.\n",
    "df.head(2).to_json()"
   ]
  },
  {
   "cell_type": "code",
   "execution_count": 11,
   "id": "245a0c45-d415-4acd-b396-8e921012b1dc",
   "metadata": {},
   "outputs": [
    {
     "data": {
      "text/plain": [
       "'[{\"name\":\"John Robinson\",\"age\":36,\"street\":\"30173 Stevenson Square\",\"city\":\"North Michael\",\"state\":\"Missouri\",\"zip\":\"02453\",\"lng\":143.456425,\"lat\":-24.6794825},{\"name\":\"Cathy Freeman\",\"age\":77,\"street\":\"95981 Hudson Ridges\",\"city\":\"Port Amyfurt\",\"state\":\"Massachusetts\",\"zip\":\"05944\",\"lng\":-37.902682,\"lat\":13.4074345}]'"
      ]
     },
     "execution_count": 11,
     "metadata": {},
     "output_type": "execute_result"
    }
   ],
   "source": [
    "#By changing the orient value to records, you get each row as a record in the JSON,as shown:\n",
    "df.head(2).to_json(orient='records')"
   ]
  },
  {
   "cell_type": "code",
   "execution_count": null,
   "id": "091678a1-4b07-4a7d-bda6-081494081254",
   "metadata": {},
   "outputs": [],
   "source": []
  }
 ],
 "metadata": {
  "kernelspec": {
   "display_name": "Python 3 (ipykernel)",
   "language": "python",
   "name": "python3"
  },
  "language_info": {
   "codemirror_mode": {
    "name": "ipython",
    "version": 3
   },
   "file_extension": ".py",
   "mimetype": "text/x-python",
   "name": "python",
   "nbconvert_exporter": "python",
   "pygments_lexer": "ipython3",
   "version": "3.9.12"
  }
 },
 "nbformat": 4,
 "nbformat_minor": 5
}
