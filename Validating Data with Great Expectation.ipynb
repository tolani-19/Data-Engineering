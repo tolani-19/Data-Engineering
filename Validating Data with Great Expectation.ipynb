{
 "cells": [
  {
   "cell_type": "markdown",
   "id": "73289c75-7dff-44f0-a768-7443ccdeae14",
   "metadata": {},
   "source": [
    "## Validating Data with Great Expectations"
   ]
  },
  {
   "cell_type": "markdown",
   "id": "f9a2faf5-5b0b-41e1-a6f4-b6658f09bd43",
   "metadata": {},
   "source": [
    "Why Great Expectations? Because with Great Expectations, you can specify humanreadable expectations and let the library handle the implementation"
   ]
  },
  {
   "cell_type": "markdown",
   "id": "5d9ba61f-4a33-4bc9-829e-37d13ad73206",
   "metadata": {},
   "source": [
    "Great Expectations will handle the logic behind doing this irrespective of whether\n",
    "your data is in a DataFrame or in a database. The same expectation will run on either\n",
    "data context."
   ]
  },
  {
   "cell_type": "markdown",
   "id": "7a61d3c6-6f7f-4792-9f95-987e8735134d",
   "metadata": {},
   "source": [
    "Before you set up Great Expectations, we will dump a sample of the data we will be working with."
   ]
  },
  {
   "cell_type": "code",
   "execution_count": 1,
   "id": "5691cb4d-e328-4e53-bb7a-b5b3fde8e116",
   "metadata": {},
   "outputs": [],
   "source": [
    "#We will generate 1,000 records using faker relating to people. The code is as follows:\n",
    "from faker import Faker\n",
    "import csv"
   ]
  },
  {
   "cell_type": "code",
   "execution_count": 2,
   "id": "f401b4ac-4449-4cc6-b942-d4840d34d772",
   "metadata": {},
   "outputs": [],
   "source": [
    "output=open('people.csv','w')\n",
    "fake=Faker()\n",
    "header=['name','age','street','city','state','zip','lng','lat']\n",
    "mywriter=csv.writer(output)\n",
    "mywriter.writerow(header)\n",
    "for r in range(1000):\n",
    "    mywriter.writerow([fake.name(),fake.random_int(min=18, max=80, step=1), fake.street_address(), fake.city(),fake.state(),fake.zipcode(),fake.longitude(),fake.latitude()])\n",
    "output.close()"
   ]
  },
  {
   "cell_type": "code",
   "execution_count": null,
   "id": "3e2a2ddb-6c5f-462a-8b77-813127f81566",
   "metadata": {},
   "outputs": [],
   "source": []
  },
  {
   "cell_type": "code",
   "execution_count": null,
   "id": "5bb7b261-1b0e-4e9f-ba50-4d1b217c15f9",
   "metadata": {},
   "outputs": [],
   "source": []
  },
  {
   "cell_type": "code",
   "execution_count": null,
   "id": "b1784e6f-2585-4026-a9ec-9e6f9d67ad45",
   "metadata": {},
   "outputs": [],
   "source": []
  },
  {
   "cell_type": "code",
   "execution_count": null,
   "id": "1b5268e6-db81-46c6-bffa-9f0881faaac3",
   "metadata": {},
   "outputs": [],
   "source": []
  },
  {
   "cell_type": "code",
   "execution_count": null,
   "id": "b69211f1-7bb7-4d45-a196-a7d44a4ffb86",
   "metadata": {},
   "outputs": [],
   "source": []
  }
 ],
 "metadata": {
  "kernelspec": {
   "display_name": "Python 3 (ipykernel)",
   "language": "python",
   "name": "python3"
  },
  "language_info": {
   "codemirror_mode": {
    "name": "ipython",
    "version": 3
   },
   "file_extension": ".py",
   "mimetype": "text/x-python",
   "name": "python",
   "nbconvert_exporter": "python",
   "pygments_lexer": "ipython3",
   "version": "3.9.12"
  }
 },
 "nbformat": 4,
 "nbformat_minor": 5
}
